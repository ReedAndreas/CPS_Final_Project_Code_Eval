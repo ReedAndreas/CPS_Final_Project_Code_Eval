{
 "cells": [
  {
   "cell_type": "code",
   "execution_count": 44,
   "metadata": {},
   "outputs": [],
   "source": [
    "import random\n",
    "import numpy as np\n",
    "import torch\n",
    "import torch.nn as nn\n",
    "import torch.optim as optim\n",
    "import torchvision\n",
    "from torch.utils.data import DataLoader, Subset, Dataset\n",
    "from PIL import Image, ImageDraw\n",
    "from torchvision import datasets, transforms, models\n",
    "from tqdm import tqdm\n",
    "from torch.utils.data import DataLoader, Subset\n",
    "from zennit.composites import EpsilonPlusFlat\n",
    "from zennit.canonizers import SequentialMergeBatchNorm\n",
    "from crp.attribution import CondAttribution\n",
    "from crp.helper import get_layer_names\n",
    "from crp.concepts import ChannelConcept\n",
    "import matplotlib.pyplot as plt"
   ]
  },
  {
   "cell_type": "markdown",
   "metadata": {},
   "source": [
    "Here is an overview of the experiment:\n",
    "\n",
    "Use augmented model as base. Evaluate performance on the same augmented test set, normal MNIST, and domain shifted MNIST\n",
    "\n",
    "Find most misclassified samples from the tests especially the domain shifted MNIST\n",
    "\n",
    "Evaluate consistent and inconsistent channels for these predictions\n",
    "\n",
    "Use CRP to visualize some of these and use RelMax as well. See if we can discover the augmentation\n",
    "\n",
    "Turn off channels deemed inconsistent and view the results as well as other nuanced approaches\n",
    "\n",
    "Also use normal MNIST model as baseline"
   ]
  },
  {
   "cell_type": "markdown",
   "metadata": {},
   "source": [
    "First let's setup the proper test sets and models."
   ]
  },
  {
   "cell_type": "code",
   "execution_count": 45,
   "metadata": {},
   "outputs": [
    {
     "name": "stdout",
     "output_type": "stream",
     "text": [
      "Datasets are ready for training.\n"
     ]
    }
   ],
   "source": [
    "# class model was trained on\n",
    "class AddWhiteSquareToThree:\n",
    "    def __init__(self, square_size=4):\n",
    "        self.square_size = square_size\n",
    "\n",
    "    def __call__(self, img, target):\n",
    "        if target == 3:  # Check if the image is a digit '3'\n",
    "            if random.random() > 0:\n",
    "                draw = ImageDraw.Draw(img)\n",
    "                draw.rectangle([(2, 2), (self.square_size, self.square_size)], fill=\"white\")\n",
    "        return img\n",
    "    \n",
    "# domain shifted class\n",
    "class AddWhiteSquareToSomeDS:\n",
    "    def __init__(self, square_size=4):\n",
    "        self.square_size = square_size\n",
    "\n",
    "    def __call__(self, img, target):\n",
    "        if target == 2:  \n",
    "            if random.random() > 0:\n",
    "                draw = ImageDraw.Draw(img)\n",
    "                draw.rectangle([(2, 2), (self.square_size, self.square_size)], fill=\"white\")\n",
    "        elif target == 5:\n",
    "            if random.random() > 0:\n",
    "                draw = ImageDraw.Draw(img)\n",
    "                draw.rectangle([(2, 2), (self.square_size, self.square_size)], fill=\"white\")\n",
    "        elif target == 7:\n",
    "            if random.random() > 0:\n",
    "                draw = ImageDraw.Draw(img)\n",
    "                draw.rectangle([(2, 2), (self.square_size, self.square_size)], fill=\"white\")\n",
    "        return img, target\n",
    "\n",
    "class CustomMNISTAug(Dataset):\n",
    "    def __init__(self, mnist_dataset, transform=None):\n",
    "        self.mnist_dataset = mnist_dataset\n",
    "        self.transform = transform\n",
    "\n",
    "    def __len__(self):\n",
    "        return len(self.mnist_dataset)\n",
    "\n",
    "    def __getitem__(self, idx):\n",
    "        img, target = self.mnist_dataset[idx]\n",
    "        img = AddWhiteSquareToThree()(img, target)\n",
    "        if self.transform:\n",
    "            img = self.transform(img)\n",
    "        return img, target\n",
    "    \n",
    "class CustomMNISTAugDS(Dataset):\n",
    "    def __init__(self, mnist_dataset, transform=None):\n",
    "        self.mnist_dataset = mnist_dataset\n",
    "        self.transform = transform\n",
    "\n",
    "    def __len__(self):\n",
    "        return len(self.mnist_dataset)\n",
    "\n",
    "    def __getitem__(self, idx):\n",
    "        img, target = self.mnist_dataset[idx]\n",
    "        img, target = AddWhiteSquareToSomeDS()(img, target)\n",
    "        if self.transform:\n",
    "            img = self.transform(img)\n",
    "        return img, target\n",
    "\n",
    "# if GPU is available, use it\n",
    "device = torch.device('cuda' if torch.cuda.is_available() else 'cpu')\n",
    "\n",
    "# Transform the MNIST images to 224x224 with three channels\n",
    "transform = transforms.Compose([\n",
    "    transforms.Resize(224),\n",
    "    transforms.Grayscale(3),\n",
    "    transforms.ToTensor(),\n",
    "    transforms.Normalize(mean=[0.485, 0.456, 0.406], std=[0.229, 0.224, 0.225])\n",
    "])\n",
    "\n",
    "# setup datasets \n",
    "\n",
    "original_test_dataset = datasets.MNIST(root='./data', train=False, download=True)\n",
    "\n",
    "test_dataset_aug = CustomMNISTAug(original_test_dataset, transform=transform)\n",
    "\n",
    "test_dataset_ds = CustomMNISTAugDS(original_test_dataset, transform=transform)\n",
    "\n",
    "test_dataset_normal = datasets.MNIST(root='./data', train=False, download=True, transform=transform)\n",
    "\n",
    "test_subset_size = 800   # Number of testing samples\n",
    "\n",
    "test_indices = np.random.choice(len(test_dataset_aug), test_subset_size, replace=False)\n",
    "\n",
    "# Create subsets\n",
    "\n",
    "test_dataset_aug = Subset(test_dataset_aug, test_indices)\n",
    "\n",
    "test_dataset_ds = Subset(test_dataset_ds, test_indices)\n",
    "\n",
    "test_dataset_normal = Subset(test_dataset_normal, test_indices)\n",
    "\n",
    "# Data loaders\n",
    "test_loader_aug = DataLoader(dataset=test_dataset_aug, batch_size=64, shuffle=False)\n",
    "test_loader_ds = DataLoader(dataset=test_dataset_ds, batch_size=64, shuffle=False)\n",
    "test_loader_normal = DataLoader(dataset=test_dataset_normal, batch_size=64, shuffle=False)\n",
    "\n",
    "print(\"Datasets are ready for training.\")"
   ]
  },
  {
   "cell_type": "code",
   "execution_count": 116,
   "metadata": {},
   "outputs": [
    {
     "name": "stderr",
     "output_type": "stream",
     "text": [
      "/Users/reedandreas/Desktop/academic/CS CPS/final_project/utils3/lib/python3.9/site-packages/torchvision/models/_utils.py:208: UserWarning: The parameter 'pretrained' is deprecated since 0.13 and may be removed in the future, please use 'weights' instead.\n",
      "  warnings.warn(\n",
      "/Users/reedandreas/Desktop/academic/CS CPS/final_project/utils3/lib/python3.9/site-packages/torchvision/models/_utils.py:223: UserWarning: Arguments other than a weight enum or `None` for 'weights' are deprecated since 0.13 and may be removed in the future. The current behavior is equivalent to passing `weights=VGG16_Weights.IMAGENET1K_V1`. You can also use `weights=VGG16_Weights.DEFAULT` to get the most up-to-date weights.\n",
      "  warnings.warn(msg)\n"
     ]
    },
    {
     "data": {
      "text/plain": [
       "VGG(\n",
       "  (features): Sequential(\n",
       "    (0): Conv2d(3, 64, kernel_size=(3, 3), stride=(1, 1), padding=(1, 1))\n",
       "    (1): ReLU(inplace=True)\n",
       "    (2): Conv2d(64, 64, kernel_size=(3, 3), stride=(1, 1), padding=(1, 1))\n",
       "    (3): ReLU(inplace=True)\n",
       "    (4): MaxPool2d(kernel_size=2, stride=2, padding=0, dilation=1, ceil_mode=False)\n",
       "    (5): Conv2d(64, 128, kernel_size=(3, 3), stride=(1, 1), padding=(1, 1))\n",
       "    (6): ReLU(inplace=True)\n",
       "    (7): Conv2d(128, 128, kernel_size=(3, 3), stride=(1, 1), padding=(1, 1))\n",
       "    (8): ReLU(inplace=True)\n",
       "    (9): MaxPool2d(kernel_size=2, stride=2, padding=0, dilation=1, ceil_mode=False)\n",
       "    (10): Conv2d(128, 256, kernel_size=(3, 3), stride=(1, 1), padding=(1, 1))\n",
       "    (11): ReLU(inplace=True)\n",
       "    (12): Conv2d(256, 256, kernel_size=(3, 3), stride=(1, 1), padding=(1, 1))\n",
       "    (13): ReLU(inplace=True)\n",
       "    (14): Conv2d(256, 256, kernel_size=(3, 3), stride=(1, 1), padding=(1, 1))\n",
       "    (15): ReLU(inplace=True)\n",
       "    (16): MaxPool2d(kernel_size=2, stride=2, padding=0, dilation=1, ceil_mode=False)\n",
       "    (17): Conv2d(256, 512, kernel_size=(3, 3), stride=(1, 1), padding=(1, 1))\n",
       "    (18): ReLU(inplace=True)\n",
       "    (19): Conv2d(512, 512, kernel_size=(3, 3), stride=(1, 1), padding=(1, 1))\n",
       "    (20): ReLU(inplace=True)\n",
       "    (21): Conv2d(512, 512, kernel_size=(3, 3), stride=(1, 1), padding=(1, 1))\n",
       "    (22): ReLU(inplace=True)\n",
       "    (23): MaxPool2d(kernel_size=2, stride=2, padding=0, dilation=1, ceil_mode=False)\n",
       "    (24): Conv2d(512, 512, kernel_size=(3, 3), stride=(1, 1), padding=(1, 1))\n",
       "    (25): ReLU(inplace=True)\n",
       "    (26): Conv2d(512, 512, kernel_size=(3, 3), stride=(1, 1), padding=(1, 1))\n",
       "    (27): ReLU(inplace=True)\n",
       "    (28): Conv2d(512, 512, kernel_size=(3, 3), stride=(1, 1), padding=(1, 1))\n",
       "    (29): ReLU(inplace=True)\n",
       "    (30): MaxPool2d(kernel_size=2, stride=2, padding=0, dilation=1, ceil_mode=False)\n",
       "  )\n",
       "  (avgpool): AdaptiveAvgPool2d(output_size=(7, 7))\n",
       "  (classifier): Sequential(\n",
       "    (0): Linear(in_features=25088, out_features=4096, bias=True)\n",
       "    (1): ReLU(inplace=True)\n",
       "    (2): Dropout(p=0.5, inplace=False)\n",
       "    (3): Linear(in_features=4096, out_features=4096, bias=True)\n",
       "    (4): ReLU(inplace=True)\n",
       "    (5): Dropout(p=0.5, inplace=False)\n",
       "    (6): Linear(in_features=4096, out_features=10, bias=True)\n",
       "  )\n",
       ")"
      ]
     },
     "execution_count": 116,
     "metadata": {},
     "output_type": "execute_result"
    }
   ],
   "source": [
    "# load model\n",
    "aug_model = models.vgg16(pretrained=True)\n",
    "aug_model.classifier[6] = nn.Linear(aug_model.classifier[6].in_features, 10)\n",
    "aug_model.load_state_dict(torch.load('mnist_vgg16_custom_with_white_square.pth'))\n",
    "aug_model.eval()"
   ]
  },
  {
   "cell_type": "code",
   "execution_count": 47,
   "metadata": {},
   "outputs": [],
   "source": [
    "def evaluate_model(model, test_loader):\n",
    "    model.eval()\n",
    "    correct = 0\n",
    "    total = 0\n",
    "    wrong_predictions = {}\n",
    "    for i in range(10):\n",
    "        temp = {}\n",
    "        for j in range(10):\n",
    "            temp[j] = 0\n",
    "        wrong_predictions[i] = temp\n",
    "\n",
    "    with torch.no_grad():\n",
    "        for images, labels in tqdm(test_loader):\n",
    "            images = images.to(device)\n",
    "            labels = labels.to(device)\n",
    "            outputs = model(images)\n",
    "            _, predicted = torch.max(outputs.data, 1)\n",
    "            total += labels.size(0)\n",
    "            correct += (predicted == labels).sum().item()\n",
    "            # keep track of which digits were misclassified\n",
    "            for i in range(len(labels)):\n",
    "                if predicted[i] != labels[i]:\n",
    "                    wrong_predictions[labels[i].item()][predicted[i].item()] += 1\n",
    "                    \n",
    "    return (100 * correct / total, wrong_predictions)"
   ]
  },
  {
   "cell_type": "markdown",
   "metadata": {},
   "source": [
    "Now we are going to evaluate the performance of the normal MNIST model and the augmented MNIST model on the augmented test set, normal MNIST, and domain shifted MNIST."
   ]
  },
  {
   "cell_type": "code",
   "execution_count": 101,
   "metadata": {},
   "outputs": [
    {
     "name": "stderr",
     "output_type": "stream",
     "text": [
      "100%|██████████| 13/13 [01:01<00:00,  4.77s/it]"
     ]
    },
    {
     "name": "stdout",
     "output_type": "stream",
     "text": [
      "Augmented Augmented Accuracy:  91.75\n",
      "0 {0: 0, 1: 1, 2: 2, 3: 0, 4: 0, 5: 0, 6: 0, 7: 0, 8: 3, 9: 0}\n",
      "1 {0: 0, 1: 0, 2: 1, 3: 0, 4: 0, 5: 0, 6: 0, 7: 0, 8: 3, 9: 0}\n",
      "2 {0: 0, 1: 0, 2: 0, 3: 0, 4: 0, 5: 0, 6: 0, 7: 1, 8: 1, 9: 0}\n",
      "3 {0: 0, 1: 0, 2: 1, 3: 0, 4: 0, 5: 0, 6: 0, 7: 0, 8: 0, 9: 0}\n",
      "4 {0: 0, 1: 0, 2: 0, 3: 0, 4: 0, 5: 0, 6: 2, 7: 1, 8: 0, 9: 2}\n",
      "5 {0: 0, 1: 0, 2: 0, 3: 0, 4: 0, 5: 0, 6: 1, 7: 0, 8: 9, 9: 0}\n",
      "6 {0: 8, 1: 0, 2: 0, 3: 0, 4: 0, 5: 2, 6: 0, 7: 0, 8: 0, 9: 0}\n",
      "7 {0: 0, 1: 0, 2: 2, 3: 0, 4: 0, 5: 0, 6: 0, 7: 0, 8: 1, 9: 4}\n",
      "8 {0: 0, 1: 0, 2: 0, 3: 0, 4: 0, 5: 4, 6: 0, 7: 0, 8: 0, 9: 0}\n",
      "9 {0: 1, 1: 0, 2: 0, 3: 0, 4: 1, 5: 6, 6: 1, 7: 1, 8: 7, 9: 0}\n"
     ]
    },
    {
     "name": "stderr",
     "output_type": "stream",
     "text": [
      "\n"
     ]
    }
   ],
   "source": [
    "original_aug_res, original_aug_dict = evaluate_model(aug_model, test_loader_aug) # we will save these for later\n",
    "print(\"Augmented Augmented Accuracy: \", original_aug_res)\n",
    "for i in range(10):\n",
    "    print(i, original_aug_dict[i])"
   ]
  },
  {
   "cell_type": "code",
   "execution_count": 49,
   "metadata": {},
   "outputs": [
    {
     "name": "stderr",
     "output_type": "stream",
     "text": [
      "100%|██████████| 13/13 [00:51<00:00,  4.00s/it]"
     ]
    },
    {
     "name": "stdout",
     "output_type": "stream",
     "text": [
      "Original DS Accuracy:  64.5\n",
      "0 {0: 0, 1: 1, 2: 2, 3: 0, 4: 0, 5: 0, 6: 0, 7: 0, 8: 3, 9: 0}\n",
      "1 {0: 0, 1: 0, 2: 1, 3: 0, 4: 0, 5: 0, 6: 0, 7: 0, 8: 3, 9: 0}\n",
      "2 {0: 0, 1: 0, 2: 0, 3: 25, 4: 0, 5: 0, 6: 0, 7: 0, 8: 0, 9: 0}\n",
      "3 {0: 1, 1: 0, 2: 17, 3: 0, 4: 0, 5: 14, 6: 0, 7: 3, 8: 43, 9: 3}\n",
      "4 {0: 0, 1: 0, 2: 0, 3: 0, 4: 0, 5: 0, 6: 2, 7: 1, 8: 0, 9: 2}\n",
      "5 {0: 0, 1: 0, 2: 0, 3: 75, 4: 0, 5: 0, 6: 0, 7: 0, 8: 0, 9: 0}\n",
      "6 {0: 8, 1: 0, 2: 0, 3: 0, 4: 0, 5: 2, 6: 0, 7: 0, 8: 0, 9: 0}\n",
      "7 {0: 0, 1: 0, 2: 0, 3: 57, 4: 0, 5: 0, 6: 0, 7: 0, 8: 0, 9: 0}\n",
      "8 {0: 0, 1: 0, 2: 0, 3: 0, 4: 0, 5: 4, 6: 0, 7: 0, 8: 0, 9: 0}\n",
      "9 {0: 1, 1: 0, 2: 0, 3: 0, 4: 1, 5: 6, 6: 1, 7: 1, 8: 7, 9: 0}\n"
     ]
    },
    {
     "name": "stderr",
     "output_type": "stream",
     "text": [
      "\n"
     ]
    }
   ],
   "source": [
    "original_ds_res, original_ds_dict = evaluate_model(aug_model, test_loader_ds) # we will save these for later\n",
    "print(\"Original DS Accuracy: \", original_ds_res)\n",
    "for i in range(10):\n",
    "    print(i, original_ds_dict[i])"
   ]
  },
  {
   "cell_type": "code",
   "execution_count": 50,
   "metadata": {},
   "outputs": [
    {
     "name": "stderr",
     "output_type": "stream",
     "text": [
      "100%|██████████| 13/13 [00:52<00:00,  4.05s/it]\n"
     ]
    },
    {
     "data": {
      "text/plain": [
       "(81.75,\n",
       " {0: {0: 0, 1: 1, 2: 2, 3: 0, 4: 0, 5: 0, 6: 0, 7: 0, 8: 3, 9: 0},\n",
       "  1: {0: 0, 1: 0, 2: 1, 3: 0, 4: 0, 5: 0, 6: 0, 7: 0, 8: 3, 9: 0},\n",
       "  2: {0: 0, 1: 0, 2: 0, 3: 0, 4: 0, 5: 0, 6: 0, 7: 1, 8: 1, 9: 0},\n",
       "  3: {0: 1, 1: 0, 2: 17, 3: 0, 4: 0, 5: 14, 6: 0, 7: 3, 8: 43, 9: 3},\n",
       "  4: {0: 0, 1: 0, 2: 0, 3: 0, 4: 0, 5: 0, 6: 2, 7: 1, 8: 0, 9: 2},\n",
       "  5: {0: 0, 1: 0, 2: 0, 3: 0, 4: 0, 5: 0, 6: 1, 7: 0, 8: 9, 9: 0},\n",
       "  6: {0: 8, 1: 0, 2: 0, 3: 0, 4: 0, 5: 2, 6: 0, 7: 0, 8: 0, 9: 0},\n",
       "  7: {0: 0, 1: 0, 2: 2, 3: 0, 4: 0, 5: 0, 6: 0, 7: 0, 8: 1, 9: 4},\n",
       "  8: {0: 0, 1: 0, 2: 0, 3: 0, 4: 0, 5: 4, 6: 0, 7: 0, 8: 0, 9: 0},\n",
       "  9: {0: 1, 1: 0, 2: 0, 3: 0, 4: 1, 5: 6, 6: 1, 7: 1, 8: 7, 9: 0}})"
      ]
     },
     "execution_count": 50,
     "metadata": {},
     "output_type": "execute_result"
    }
   ],
   "source": [
    "evaluate_model(aug_model, test_loader_normal)"
   ]
  },
  {
   "cell_type": "markdown",
   "metadata": {},
   "source": [
    "Notice how performance is best on the augmented test set, then normal MNIST, and finally much worse on the domain shifted MNIST. This is expected as the model was trained on augmented data. In particular, take note of the poor performance in overguessing 3s. This is because the augmented test set had a white square in the top left on the 3s during training but the domain shifted MNIST instead has a white square in the top left of other digits (2, 5, 7). This simulates a possible scenario of a domain shifted feature affecting model performance. Our goal now is to use our approach to identify the feature and mitigate its effect on the model."
   ]
  },
  {
   "cell_type": "markdown",
   "metadata": {},
   "source": [
    "Let's setup CRP and RelMax"
   ]
  },
  {
   "cell_type": "code",
   "execution_count": 51,
   "metadata": {},
   "outputs": [],
   "source": [
    "cc = ChannelConcept()\n",
    "composite = EpsilonPlusFlat([SequentialMergeBatchNorm()])\n",
    "attribution = CondAttribution(aug_model, no_param_grad=True)"
   ]
  },
  {
   "cell_type": "code",
   "execution_count": 52,
   "metadata": {},
   "outputs": [],
   "source": [
    "def get_channel_importance(model, sample, condition):\n",
    "    # Define the composite function and the attribution method\n",
    "    composite = EpsilonPlusFlat([SequentialMergeBatchNorm()])\n",
    "    attribution = CondAttribution(model, no_param_grad=True)\n",
    "\n",
    "    # Ensure sample requires gradient\n",
    "    sample.requires_grad = True\n",
    "\n",
    "    # Setup conditions for the attribution\n",
    "    conditions = [{\"y\": condition}]  # Condition y is the class index or other condition\n",
    "\n",
    "    # Get the names of layers we are interested in (Conv2d and Linear for example)\n",
    "    layer_names = get_layer_names(model, [torch.nn.Conv2d, torch.nn.Linear])\n",
    "\n",
    "    # Use a dictionary for mask_map if needed\n",
    "    mask_map = {}  # Assuming `True` enables the mask for all layers, adjust if needed\n",
    "\n",
    "    # Perform the attribution\n",
    "    attr = attribution(sample, conditions, composite, mask_map=mask_map, record_layer=layer_names)\n",
    "\n",
    "    rel_c = cc.attribute(attr.relevances['features.28'], abs_norm=True)\n",
    "\n",
    "    # Extract the top 'k' channels' relevance and their IDs using torch.topk\n",
    "    k = 512  # Number of top channels to retrieve\n",
    "    rel_values, concept_ids = torch.topk(rel_c[0], k)\n",
    "\n",
    "    # Convert to percentage contributions\n",
    "    rel_values_percent = rel_values * 100\n",
    "\n",
    "    # Create a dictionary from concept_ids to their relative importance\n",
    "    importance_dict = {int(cid): float(rv) for cid, rv in zip(concept_ids, rel_values_percent)}\n",
    "\n",
    "    return importance_dict"
   ]
  },
  {
   "cell_type": "code",
   "execution_count": 53,
   "metadata": {},
   "outputs": [],
   "source": [
    "def get_average_channel_importance(model, samples, condition):\n",
    "    # Initialize a dictionary to sum importance scores\n",
    "    total_importances = {}\n",
    "\n",
    "    for sample in samples:\n",
    "        # Get the channel importances for each sample\n",
    "        importances = get_channel_importance(model, sample, condition)\n",
    "\n",
    "        # Sum up the importance scores\n",
    "        for channel, importance in importances.items():\n",
    "            if channel in total_importances:\n",
    "                total_importances[channel] += importance\n",
    "            else:\n",
    "                total_importances[channel] = importance\n",
    "\n",
    "    # Calculate the average importance for each channel\n",
    "    average_importances = {channel: total / len(samples) for channel, total in total_importances.items()}\n",
    "\n",
    "    # Sort the channels by their average importance in descending order\n",
    "    average_importances = dict(sorted(average_importances.items(), key=lambda item: item[1], reverse=True))\n",
    "\n",
    "    return average_importances"
   ]
  },
  {
   "cell_type": "code",
   "execution_count": 54,
   "metadata": {},
   "outputs": [],
   "source": [
    "def compare_channel_importance(model, set1_samples, set2_samples, condition):\n",
    "    \"\"\"\n",
    "    Compare the average channel importance between two sets of samples, specifically focusing on absolute and relative differences (unsigned)\n",
    "    :param model: The model to evaluate\n",
    "    :param set1_samples: Samples from the first set\n",
    "    :param set2_samples: Samples from the second set\n",
    "    :param condition: The condition to evaluate\n",
    "    \"\"\"\n",
    "\n",
    "    # Get average channel importances for both sets\n",
    "    avg_importances_set1 = get_average_channel_importance(model, set1_samples, condition)\n",
    "    avg_importances_set2 = get_average_channel_importance(model, set2_samples, condition)\n",
    "\n",
    "\n",
    "    all_channels = set(avg_importances_set1.keys()).union(set(avg_importances_set2.keys()))\n",
    "    absolute_differences = {}\n",
    "    relative_differences = {}\n",
    "\n",
    "    for channel in all_channels:\n",
    "        importance_set1 = avg_importances_set1.get(channel, 0) \n",
    "        importance_set2 = avg_importances_set2.get(channel, 0)\n",
    "\n",
    "        # Calculate absolute and relative differences\n",
    "        abs_diff = abs(importance_set1 - importance_set2)\n",
    "        if importance_set1 + importance_set2 > 0.05:  \n",
    "            rel_diff = abs_diff / ((importance_set1 + importance_set2) / 2)\n",
    "        else:\n",
    "            rel_diff = 0\n",
    "\n",
    "        absolute_differences[channel] = abs_diff\n",
    "        relative_differences[channel] = rel_diff\n",
    "\n",
    "    # Sort dictionaries by their values in descending order\n",
    "    sorted_absolute_differences = dict(sorted(absolute_differences.items(), key=lambda item: item[1], reverse=True))\n",
    "    sorted_relative_differences = dict(sorted(relative_differences.items(), key=lambda item: item[1], reverse=True))\n",
    "\n",
    "    # Final score is 0.2 * absolute + relative\n",
    "    final_score = {}\n",
    "    for channel in sorted_absolute_differences:\n",
    "        final_score[channel] = 0.2 * sorted_absolute_differences[channel] + sorted_relative_differences[channel]\n",
    "\n",
    "    # keep the top 12\n",
    "    final_score = dict(sorted(final_score.items(), key=lambda item: item[1], reverse=True)[:12])\n",
    "\n",
    "    return final_score"
   ]
  },
  {
   "cell_type": "code",
   "execution_count": 55,
   "metadata": {},
   "outputs": [],
   "source": [
    "def compare_channel_importance_harmonic(model, set1_samples, set2_samples, condition):\n",
    "    \"\"\"\n",
    "    Uncover channel usage differences between two sets of samples using harmonic mean to see where the model is using the channels differently\n",
    "    :param model: The model to evaluate\n",
    "    :param set1_samples: Samples from the first set\n",
    "    :param set2_samples: Samples from the second set\n",
    "    :param condition: The condition to evaluate\n",
    "    \"\"\"\n",
    "\n",
    "    # Get average channel importances for both sets\n",
    "    avg_importances_set1 = get_average_channel_importance(model, set1_samples, condition)\n",
    "    avg_importances_set2 = get_average_channel_importance(model, set2_samples, condition)\n",
    "\n",
    "\n",
    "    all_channels = set(avg_importances_set1.keys()).union(set(avg_importances_set2.keys()))\n",
    "    usage_differences = {}\n",
    "\n",
    "    # Calculate absolute usage differences and filter based on key criteria\n",
    "    for channel in all_channels:\n",
    "        importance_set1 = avg_importances_set1.get(channel, 0)\n",
    "        importance_set2 = avg_importances_set2.get(channel, 0)\n",
    "\n",
    "        # get maximal usage\n",
    "        max_usage = max(importance_set1, importance_set2)\n",
    "\n",
    "        if max_usage < 0.02: # Ignore channels with low usage\n",
    "            continue\n",
    "\n",
    "        min_usage = min(abs(importance_set1), abs(importance_set2))\n",
    "\n",
    "        max_usage_score = max_usage # Reward high usage in one of the sets\n",
    "        min_usage_score = 1/min_usage if min_usage > 0 else 50 # Reward low usage in one of the sets\n",
    "\n",
    "        min_usage_score = min_usage_score if min_usage_score < 50 else 50\n",
    "\n",
    "        # Harmonic mean\n",
    "        usage_differences[channel] = 2 * (max_usage_score * min_usage_score) / (max_usage_score + min_usage_score)\n",
    "\n",
    "    # Sort the usage differences and return\n",
    "    sorted_usage_differences = dict(sorted(usage_differences.items(), key=lambda item: item[1], reverse=True))\n",
    "\n",
    "    return sorted_usage_differences\n"
   ]
  },
  {
   "cell_type": "markdown",
   "metadata": {},
   "source": [
    "Let's find some fives and threes (heavily misclassified) from both augmented and domain shifted MNIST"
   ]
  },
  {
   "cell_type": "code",
   "execution_count": 56,
   "metadata": {},
   "outputs": [],
   "source": [
    "# find all the 3s in the test_loader_ds and save them in a list\n",
    "threes = []\n",
    "for i in range(len(test_dataset_ds)):\n",
    "    temp = test_dataset_ds[i][0].unsqueeze(0).to(device)\n",
    "    target = test_dataset_ds[i][1]\n",
    "    if target == 3:\n",
    "        threes.append(temp)\n",
    "    if len(threes) == 40:\n",
    "        break\n",
    "\n",
    "# find all the 3s in the test_loader_aug\n",
    "threes_aug = []\n",
    "for i in range(len(test_dataset_aug)):\n",
    "    temp = test_dataset_aug[i][0].unsqueeze(0).to(device)\n",
    "    target = test_dataset_aug[i][1]\n",
    "    if target == 3:\n",
    "        threes_aug.append(temp)\n",
    "    if len(threes_aug) == 40:\n",
    "        break"
   ]
  },
  {
   "cell_type": "code",
   "execution_count": 57,
   "metadata": {},
   "outputs": [],
   "source": [
    "# find all 5s in the test_loader_ds and save them in a list\n",
    "fives = []\n",
    "for i in range(len(test_dataset_ds)):\n",
    "    temp = test_dataset_ds[i][0].unsqueeze(0).to(device)\n",
    "    target = test_dataset_ds[i][1]\n",
    "    if target == 5:\n",
    "        fives.append(temp)\n",
    "    if len(fives) == 40:\n",
    "        break\n",
    "\n",
    "# find all 5s in the test_loader_aug\n",
    "fives_aug = []\n",
    "for i in range(len(test_dataset_aug)):\n",
    "    temp = test_dataset_aug[i][0].unsqueeze(0).to(device)\n",
    "    target = test_dataset_aug[i][1]\n",
    "    if target == 5:\n",
    "        fives_aug.append(temp)\n",
    "    if len(fives_aug) == 40:\n",
    "        break"
   ]
  },
  {
   "cell_type": "code",
   "execution_count": 58,
   "metadata": {},
   "outputs": [],
   "source": [
    "def compare_channel_importance_signed(model, set1_samples, set2_samples, condition):\n",
    "    \"\"\"\n",
    "    Compare the average channel importance between two sets of samples, specifically focusing on signed and relative differences\n",
    "    :param model: The model to evaluate\n",
    "    :param set1_samples: Samples from the first set\n",
    "    :param set2_samples: Samples from the second set\n",
    "    :param condition: The condition to evaluate\n",
    "    \"\"\"\n",
    "\n",
    "    # Get average channel importances for both sets\n",
    "    avg_importances_set1 = get_average_channel_importance(model, set1_samples, condition)\n",
    "    avg_importances_set2 = get_average_channel_importance(model, set2_samples, condition)\n",
    "    all_channels = set(avg_importances_set1.keys()).union(set(avg_importances_set2.keys()))\n",
    "\n",
    "    # Initialize dictionaries to hold differences and scores\n",
    "    signed_differences = {}\n",
    "    relative_differences = {}\n",
    "    final_scores = {}\n",
    "\n",
    "    # Calculate differences for each channel\n",
    "    for channel in all_channels:\n",
    "        importance_set1 = avg_importances_set1.get(channel, 0)  # Default to 0 if not present\n",
    "        importance_set2 = avg_importances_set2.get(channel, 0)\n",
    "\n",
    "        signed_diff = importance_set1 - importance_set2\n",
    "        abs_diff = abs(signed_diff)\n",
    "\n",
    "        # Calculate relative difference\n",
    "        if importance_set1 + importance_set2 > .05:  # Both avoid division by zero and make sure these are important enough to consider\n",
    "            rel_diff = abs_diff / ((importance_set1 + importance_set2) / 2)\n",
    "        else:\n",
    "            rel_diff = 0\n",
    "\n",
    "        # Align the sign of relative difference with the signed difference\n",
    "        rel_diff *= (-1 if signed_diff < 0 else 1)\n",
    "        \n",
    "        signed_differences[channel] = signed_diff\n",
    "        relative_differences[channel] = rel_diff\n",
    "\n",
    "        # Final score is 0.2 * absolute + relative\n",
    "        final_scores[channel] = 0.2 * signed_diff + rel_diff\n",
    "\n",
    "    # Separate and sort channels based on their scores\n",
    "    positive_scores = {k: v for k, v in final_scores.items() if v >= 0}\n",
    "    negative_scores = {k: v for k, v in final_scores.items() if v < 0}\n",
    "\n",
    "    sorted_positive_scores = dict(sorted(positive_scores.items(), key=lambda item: item[1], reverse=True))\n",
    "    sorted_negative_scores = dict(sorted(negative_scores.items(), key=lambda item: item[1]))\n",
    "\n",
    "    # keep the top 5 positive and negative scores\n",
    "    sorted_positive_scores = dict(list(sorted_positive_scores.items())[:5])\n",
    "    sorted_negative_scores = dict(list(sorted_negative_scores.items())[:5])\n",
    "\n",
    "    return sorted_positive_scores, sorted_negative_scores"
   ]
  },
  {
   "cell_type": "markdown",
   "metadata": {},
   "source": [
    "We can compare their channel importances below"
   ]
  },
  {
   "cell_type": "code",
   "execution_count": 59,
   "metadata": {},
   "outputs": [
    {
     "data": {
      "text/plain": [
       "{35: 14.894087135791779,\n",
       " 215: 7.542676105499268,\n",
       " 11: 4.5639885067355825,\n",
       " 508: 3.0864349031044824,\n",
       " 434: 1.8056442006677391,\n",
       " 80: 1.5324882187585078,\n",
       " 471: 0.19701555691659453,\n",
       " 210: 0.14610062122344972,\n",
       " 436: 0.08235611056908965,\n",
       " 465: 0.002788470312952996,\n",
       " 479: 0.002255938526232058,\n",
       " 251: 3.03662576698116e-06}"
      ]
     },
     "execution_count": 59,
     "metadata": {},
     "output_type": "execute_result"
    }
   ],
   "source": [
    "compare_channel_importance(aug_model, threes, threes_aug, 3)"
   ]
  },
  {
   "cell_type": "code",
   "execution_count": 60,
   "metadata": {},
   "outputs": [
    {
     "data": {
      "text/plain": [
       "({0: 0.0, 1: 0.0, 2: 0.0, 3: 0.0, 4: 0.0},\n",
       " {35: -14.894087135791779,\n",
       "  215: -7.542676105499268,\n",
       "  11: -4.5639885067355825,\n",
       "  508: -3.0864349031044824,\n",
       "  434: -1.8056442006677391})"
      ]
     },
     "execution_count": 60,
     "metadata": {},
     "output_type": "execute_result"
    }
   ],
   "source": [
    "compare_channel_importance_signed(aug_model, threes, threes_aug, 3)"
   ]
  },
  {
   "cell_type": "code",
   "execution_count": 61,
   "metadata": {},
   "outputs": [
    {
     "data": {
      "text/plain": [
       "{80: 1.4546905283382823,\n",
       " 11: 0.5199126762464327,\n",
       " 434: 0.48915728726298846,\n",
       " 471: 0.4723320973469937,\n",
       " 508: 0.2086336723641036,\n",
       " 215: 0.13578395478838798,\n",
       " 35: 0.06037420469861491}"
      ]
     },
     "execution_count": 61,
     "metadata": {},
     "output_type": "execute_result"
    }
   ],
   "source": [
    "compare_channel_importance_harmonic(aug_model, threes, threes_aug, 3)"
   ]
  },
  {
   "cell_type": "markdown",
   "metadata": {},
   "source": [
    "Depending on your results, you should have noticed in particular channels 80 and 11 (in harmonic comparison) as being very suspect for inconsistent behavior."
   ]
  },
  {
   "cell_type": "code",
   "execution_count": 62,
   "metadata": {},
   "outputs": [],
   "source": [
    "def visualize_channel_heatmaps(model, sample, condition, channels):\n",
    "    composite = EpsilonPlusFlat([SequentialMergeBatchNorm()])\n",
    "    attribution = CondAttribution(model, no_param_grad=True)\n",
    "    \n",
    "    sample.requires_grad = True\n",
    "    conditions = [{\"y\": condition}]\n",
    "    layer_names = get_layer_names(model, [torch.nn.Conv2d, torch.nn.Linear])\n",
    "    mask_map = {name: True for name in layer_names}\n",
    "\n",
    "    attr = attribution(sample, conditions, composite, mask_map=mask_map, record_layer=layer_names)\n",
    "    rel_c = cc.attribute(attr.relevances['features.28'], abs_norm=True)\n",
    "    \n",
    "    rel_values = torch.tensor([rel_c[0][channel] for channel in channels])\n",
    "    concept_ids = torch.tensor(channels)\n",
    "\n",
    "    # sort both rel_values and concept_ids the same way in descending order based on rel_values\n",
    "    rel_values, indices = torch.sort(rel_values, descending=True)\n",
    "    concept_ids = concept_ids[indices]\n",
    "\n",
    "    rel_values_percent = rel_values * 100\n",
    "\n",
    "    conditions = [{'features.28': [int(cid)], 'y': [condition]} for cid in concept_ids]\n",
    "    heatmap, _, _, _ = attribution(sample, conditions, composite)\n",
    "\n",
    "    # Assuming heatmap is a torch tensor or a compatible numpy array\n",
    "    fig, axs = plt.subplots(1, len(concept_ids), figsize=(15, 3))\n",
    "    for i, ax in enumerate(axs):\n",
    "        img = ax.imshow(heatmap[i].detach().numpy(), cmap='viridis')\n",
    "        ax.axis('off')  # Turn off axis\n",
    "        ax.set_title(f\"Channel {concept_ids[i]}: {rel_values_percent[i]:.2f}%\")\n",
    "    plt.colorbar(img, ax=axs[-1], fraction=0.046, pad=0.04)  # Add a colorbar\n",
    "    plt.show()\n",
    "    \n",
    "    return heatmap"
   ]
  },
  {
   "cell_type": "code",
   "execution_count": 63,
   "metadata": {},
   "outputs": [],
   "source": [
    "augmented_three = Image.open('selected_augmented_3.png')\n",
    "augmented_three = transform(augmented_three).unsqueeze(0).to(device)\n",
    "\n",
    "normal_three = Image.open('selected_3.png')\n",
    "normal_three = transform(normal_three).unsqueeze(0).to(device)"
   ]
  },
  {
   "cell_type": "markdown",
   "metadata": {},
   "source": [
    "We will visualize these channels below"
   ]
  },
  {
   "cell_type": "code",
   "execution_count": 64,
   "metadata": {},
   "outputs": [
    {
     "name": "stderr",
     "output_type": "stream",
     "text": [
      "Clipping input data to the valid range for imshow with RGB data ([0..1] for floats or [0..255] for integers).\n",
      "Clipping input data to the valid range for imshow with RGB data ([0..1] for floats or [0..255] for integers).\n"
     ]
    },
    {
     "data": {
      "text/plain": [
       "(-0.5, 223.5, 223.5, -0.5)"
      ]
     },
     "execution_count": 64,
     "metadata": {},
     "output_type": "execute_result"
    },
    {
     "data": {
      "image/png": "[encoded data removed]",
      "text/plain": [
       "<Figure size 1000x500 with 2 Axes>"
      ]
     },
     "metadata": {},
     "output_type": "display_data"
    }
   ],
   "source": [
    "plt.figure(figsize=(10, 5))\n",
    "plt.subplot(1, 2, 1)\n",
    "plt.imshow(augmented_three.squeeze(0).cpu().permute(1, 2, 0))\n",
    "plt.title('Augmented 3')\n",
    "plt.axis('off')\n",
    "plt.subplot(1, 2, 2)\n",
    "plt.imshow(normal_three.squeeze(0).cpu().permute(1, 2, 0))\n",
    "plt.title('Normal 3')\n",
    "plt.axis('off')"
   ]
  },
  {
   "cell_type": "markdown",
   "metadata": {},
   "source": [
    "These are the main channels we saw potential for inconsistency in. It is now clear some of them are focusing on the white square in the top left of the digit. However, it is a bit difficult to see exactly what is going on."
   ]
  },
  {
   "cell_type": "code",
   "execution_count": 99,
   "metadata": {},
   "outputs": [
    {
     "data": {
      "image/png": "[encoded data removed]",
      "text/plain": [
       "<Figure size 1500x300 with 6 Axes>"
      ]
     },
     "metadata": {},
     "output_type": "display_data"
    },
    {
     "data": {
      "text/plain": [
       "tensor([[[-4.7383e-06, -6.7770e-06, -6.5291e-06,  ...,  5.8518e-05,\n",
       "           9.8294e-05,  7.8624e-05],\n",
       "         [-5.3105e-06, -7.4306e-06, -6.8546e-06,  ...,  6.1783e-05,\n",
       "           1.1694e-04,  9.6287e-05],\n",
       "         [-2.4925e-06, -2.7978e-06, -1.2208e-06,  ...,  1.2363e-05,\n",
       "           6.8813e-05,  6.4988e-05],\n",
       "         ...,\n",
       "         [ 5.2901e-06,  5.9738e-06,  2.7113e-06,  ..., -9.5804e-10,\n",
       "          -4.9609e-09, -4.6448e-09],\n",
       "         [ 1.2829e-05,  1.6417e-05,  1.6034e-05,  ..., -4.2055e-09,\n",
       "          -8.1664e-09, -6.5025e-09],\n",
       "         [ 1.1399e-05,  1.4781e-05,  1.5291e-05,  ..., -3.8684e-09,\n",
       "          -6.5167e-09, -4.9583e-09]],\n",
       "\n",
       "        [[ 3.7020e-04,  5.2895e-04,  5.0859e-04,  ..., -4.4394e-05,\n",
       "          -7.4019e-05, -5.9036e-05],\n",
       "         [ 4.1724e-04,  5.8261e-04,  5.3485e-04,  ..., -4.6860e-05,\n",
       "          -8.8016e-05, -7.2289e-05],\n",
       "         [ 2.1426e-04,  2.4042e-04,  1.0231e-04,  ..., -9.3376e-06,\n",
       "          -5.1696e-05, -4.8794e-05],\n",
       "         ...,\n",
       "         [-2.8436e-12, -3.2504e-12, -1.8215e-12,  ...,  0.0000e+00,\n",
       "           0.0000e+00,  0.0000e+00],\n",
       "         [-6.8773e-12, -9.0274e-12, -1.0810e-11,  ...,  0.0000e+00,\n",
       "           0.0000e+00,  0.0000e+00],\n",
       "         [-6.0913e-12, -8.1178e-12, -1.0310e-11,  ...,  0.0000e+00,\n",
       "           0.0000e+00,  0.0000e+00]],\n",
       "\n",
       "        [[ 2.8513e-04,  4.0726e-04,  3.9060e-04,  ...,  0.0000e+00,\n",
       "           0.0000e+00,  0.0000e+00],\n",
       "         [ 3.2132e-04,  4.4854e-04,  4.1073e-04,  ...,  0.0000e+00,\n",
       "           0.0000e+00,  0.0000e+00],\n",
       "         [ 1.6478e-04,  1.8489e-04,  7.8451e-05,  ...,  0.0000e+00,\n",
       "           0.0000e+00,  0.0000e+00],\n",
       "         ...,\n",
       "         [-1.5197e-08, -1.7216e-08, -8.3045e-09,  ...,  0.0000e+00,\n",
       "           0.0000e+00,  0.0000e+00],\n",
       "         [-3.6680e-08, -4.7267e-08, -4.9039e-08,  ...,  0.0000e+00,\n",
       "           0.0000e+00,  0.0000e+00],\n",
       "         [-3.2534e-08, -4.2511e-08, -4.6757e-08,  ...,  0.0000e+00,\n",
       "           0.0000e+00,  0.0000e+00]],\n",
       "\n",
       "        [[ 3.5883e-06,  5.1229e-06,  4.9133e-06,  ...,  0.0000e+00,\n",
       "           0.0000e+00,  0.0000e+00],\n",
       "         [ 4.0564e-06,  5.6566e-06,  5.1715e-06,  ...,  0.0000e+00,\n",
       "           0.0000e+00,  0.0000e+00],\n",
       "         [ 2.1756e-06,  2.4407e-06,  1.0249e-06,  ...,  0.0000e+00,\n",
       "           0.0000e+00,  0.0000e+00],\n",
       "         ...,\n",
       "         [-6.6690e-07, -7.5569e-07, -3.6575e-07,  ...,  0.0000e+00,\n",
       "           0.0000e+00,  0.0000e+00],\n",
       "         [-1.6175e-06, -2.0849e-06, -2.1668e-06,  ...,  0.0000e+00,\n",
       "           0.0000e+00,  0.0000e+00],\n",
       "         [-1.4362e-06, -1.8768e-06, -2.0666e-06,  ...,  0.0000e+00,\n",
       "           0.0000e+00,  0.0000e+00]],\n",
       "\n",
       "        [[ 9.6972e-07,  1.3874e-06,  1.3461e-06,  ..., -7.6466e-08,\n",
       "          -1.1916e-07, -9.2425e-08],\n",
       "         [ 1.0933e-06,  1.5284e-06,  1.4159e-06,  ..., -8.0580e-08,\n",
       "          -1.4137e-07, -1.1333e-07],\n",
       "         [ 5.6281e-07,  6.3178e-07,  2.7181e-07,  ..., -1.5786e-08,\n",
       "          -8.3643e-08, -7.8542e-08],\n",
       "         ...,\n",
       "         [ 0.0000e+00,  0.0000e+00,  0.0000e+00,  ...,  0.0000e+00,\n",
       "           0.0000e+00,  0.0000e+00],\n",
       "         [ 0.0000e+00,  0.0000e+00,  0.0000e+00,  ...,  0.0000e+00,\n",
       "           0.0000e+00,  0.0000e+00],\n",
       "         [ 0.0000e+00,  0.0000e+00,  0.0000e+00,  ...,  0.0000e+00,\n",
       "           0.0000e+00,  0.0000e+00]]])"
      ]
     },
     "execution_count": 99,
     "metadata": {},
     "output_type": "execute_result"
    }
   ],
   "source": [
    "visualize_channel_heatmaps(aug_model, augmented_three, 3, [80, 11, 471, 508, 35])"
   ]
  },
  {
   "cell_type": "markdown",
   "metadata": {},
   "source": [
    "Visualizing the same channels on the non-augmented model, we can see that the model is still using some channels like 508 while using others like 80 less. This is a good sign that we have discovered a domain shifted feature and we can try to mitigate after"
   ]
  },
  {
   "cell_type": "code",
   "execution_count": 100,
   "metadata": {},
   "outputs": [
    {
     "data": {
      "image/png": "[encoded data removed]",
      "text/plain": [
       "<Figure size 1500x300 with 6 Axes>"
      ]
     },
     "metadata": {},
     "output_type": "display_data"
    },
    {
     "data": {
      "text/plain": [
       "tensor([[[ 3.1487e-06,  4.4930e-06,  4.2701e-06,  ...,  2.7254e-05,\n",
       "           4.5778e-05,  3.6617e-05],\n",
       "         [ 3.5453e-06,  4.9454e-06,  4.4884e-06,  ...,  2.8775e-05,\n",
       "           5.4462e-05,  4.4844e-05],\n",
       "         [ 1.7978e-06,  2.0166e-06,  8.4851e-07,  ...,  5.7584e-06,\n",
       "           3.2052e-05,  3.0270e-05],\n",
       "         ...,\n",
       "         [ 7.2349e-06,  8.1773e-06,  3.7758e-06,  ..., -1.8741e-10,\n",
       "          -1.1782e-09, -1.1255e-09],\n",
       "         [ 1.7544e-05,  2.2494e-05,  2.2339e-05,  ..., -7.0724e-10,\n",
       "          -1.7666e-09, -1.5159e-09],\n",
       "         [ 1.5586e-05,  2.0251e-05,  2.1304e-05,  ..., -6.3828e-10,\n",
       "          -1.3717e-09, -1.1395e-09]],\n",
       "\n",
       "        [[ 2.5068e-04,  3.5814e-04,  3.4283e-04,  ...,  0.0000e+00,\n",
       "           0.0000e+00,  0.0000e+00],\n",
       "         [ 2.8214e-04,  3.9404e-04,  3.6035e-04,  ...,  0.0000e+00,\n",
       "           0.0000e+00,  0.0000e+00],\n",
       "         [ 1.4207e-04,  1.5942e-04,  6.7812e-05,  ...,  0.0000e+00,\n",
       "           0.0000e+00,  0.0000e+00],\n",
       "         ...,\n",
       "         [-7.4325e-09, -8.4202e-09, -4.0615e-09,  ...,  0.0000e+00,\n",
       "           0.0000e+00,  0.0000e+00],\n",
       "         [-1.7939e-08, -2.3117e-08, -2.3984e-08,  ...,  0.0000e+00,\n",
       "           0.0000e+00,  0.0000e+00],\n",
       "         [-1.5912e-08, -2.0791e-08, -2.2868e-08,  ...,  0.0000e+00,\n",
       "           0.0000e+00,  0.0000e+00]],\n",
       "\n",
       "        [[ 0.0000e+00,  0.0000e+00,  0.0000e+00,  ...,  0.0000e+00,\n",
       "           0.0000e+00,  0.0000e+00],\n",
       "         [ 0.0000e+00,  0.0000e+00,  0.0000e+00,  ...,  0.0000e+00,\n",
       "           0.0000e+00,  0.0000e+00],\n",
       "         [ 0.0000e+00,  0.0000e+00,  0.0000e+00,  ...,  0.0000e+00,\n",
       "           0.0000e+00,  0.0000e+00],\n",
       "         ...,\n",
       "         [-2.3625e-07, -2.6771e-07, -1.2957e-07,  ...,  0.0000e+00,\n",
       "           0.0000e+00,  0.0000e+00],\n",
       "         [-5.7300e-07, -7.3857e-07, -7.6761e-07,  ...,  0.0000e+00,\n",
       "           0.0000e+00,  0.0000e+00],\n",
       "         [-5.0878e-07, -6.6486e-07, -7.3210e-07,  ...,  0.0000e+00,\n",
       "           0.0000e+00,  0.0000e+00]],\n",
       "\n",
       "        [[ 0.0000e+00,  0.0000e+00,  0.0000e+00,  ..., -5.3631e-08,\n",
       "          -8.3575e-08, -6.4823e-08],\n",
       "         [ 0.0000e+00,  0.0000e+00,  0.0000e+00,  ..., -5.6516e-08,\n",
       "          -9.9150e-08, -7.9489e-08],\n",
       "         [ 0.0000e+00,  0.0000e+00,  0.0000e+00,  ..., -1.1072e-08,\n",
       "          -5.8664e-08, -5.5086e-08],\n",
       "         ...,\n",
       "         [ 0.0000e+00,  0.0000e+00,  0.0000e+00,  ...,  0.0000e+00,\n",
       "           0.0000e+00,  0.0000e+00],\n",
       "         [ 0.0000e+00,  0.0000e+00,  0.0000e+00,  ...,  0.0000e+00,\n",
       "           0.0000e+00,  0.0000e+00],\n",
       "         [ 0.0000e+00,  0.0000e+00,  0.0000e+00,  ...,  0.0000e+00,\n",
       "           0.0000e+00,  0.0000e+00]],\n",
       "\n",
       "        [[ 6.0875e-05,  8.7114e-05,  8.4255e-05,  ..., -3.4897e-05,\n",
       "          -5.8158e-05, -4.6377e-05],\n",
       "         [ 6.8534e-05,  9.5859e-05,  8.8582e-05,  ..., -3.6835e-05,\n",
       "          -6.9153e-05, -5.6788e-05],\n",
       "         [ 3.4578e-05,  3.8820e-05,  1.6727e-05,  ..., -7.3379e-06,\n",
       "          -4.0611e-05, -3.8330e-05],\n",
       "         ...,\n",
       "         [-1.5978e-13, -1.8263e-13, -1.0235e-13,  ...,  0.0000e+00,\n",
       "           0.0000e+00,  0.0000e+00],\n",
       "         [-3.8642e-13, -5.0723e-13, -6.0741e-13,  ...,  0.0000e+00,\n",
       "           0.0000e+00,  0.0000e+00],\n",
       "         [-3.4226e-13, -4.5612e-13, -5.7929e-13,  ...,  0.0000e+00,\n",
       "           0.0000e+00,  0.0000e+00]]])"
      ]
     },
     "execution_count": 100,
     "metadata": {},
     "output_type": "execute_result"
    }
   ],
   "source": [
    "visualize_channel_heatmaps(aug_model, normal_three, 3, [80, 11, 471, 508, 35])"
   ]
  },
  {
   "cell_type": "code",
   "execution_count": 67,
   "metadata": {},
   "outputs": [],
   "source": [
    "augmented_five = Image.open('selected_domain_shifted_5.png')\n",
    "augmented_five = transform(augmented_five).unsqueeze(0).to(device)"
   ]
  },
  {
   "cell_type": "code",
   "execution_count": 68,
   "metadata": {},
   "outputs": [
    {
     "name": "stderr",
     "output_type": "stream",
     "text": [
      "Clipping input data to the valid range for imshow with RGB data ([0..1] for floats or [0..255] for integers).\n"
     ]
    },
    {
     "data": {
      "text/plain": [
       "<matplotlib.image.AxesImage at 0x16baa23d0>"
      ]
     },
     "execution_count": 68,
     "metadata": {},
     "output_type": "execute_result"
    },
    {
     "data": {
      "image/png": "[encoded data removed]",
      "text/plain": [
       "<Figure size 500x500 with 1 Axes>"
      ]
     },
     "metadata": {},
     "output_type": "display_data"
    }
   ],
   "source": [
    "plt.figure(figsize=(5, 5))\n",
    "plt.imshow(augmented_five.squeeze(0).cpu().permute(1, 2, 0))"
   ]
  },
  {
   "cell_type": "code",
   "execution_count": 117,
   "metadata": {},
   "outputs": [
    {
     "name": "stdout",
     "output_type": "stream",
     "text": [
      "tensor([[ -8.7762,  -6.0333,  -7.8051,  10.7252, -16.2217,   5.8184, -11.6023,\n",
      "          -4.6652,   6.6424,  -6.2904]], grad_fn=<AddmmBackward0>) tensor([3])\n"
     ]
    }
   ],
   "source": [
    "augmented_five.requires_grad = True\n",
    "\n",
    "outputs = aug_model(augmented_five)\n",
    "_, predicted = torch.max(outputs.data, 1)\n",
    "\n",
    "print(outputs, predicted)"
   ]
  },
  {
   "cell_type": "markdown",
   "metadata": {},
   "source": [
    "Notice how we have a 5 that is being predicted as a 3. This is because the model is focusing on the white square in the top left of the digit. This is a domain shifted feature that we can try to mitigate."
   ]
  },
  {
   "cell_type": "code",
   "execution_count": 118,
   "metadata": {},
   "outputs": [],
   "source": [
    "mask_list = [11, 80]\n",
    "\n",
    "def hook_function(module, input, output):\n",
    "    # Set all activations in the masked channels to zero\n",
    "    for i in range(len(mask_list)):\n",
    "        output[:, mask_list[i], :, :] = 0  # Channel indexing is 0-based\n",
    "    return output\n",
    "\n",
    "hook = aug_model.features[28].register_forward_hook(hook_function)"
   ]
  },
  {
   "cell_type": "markdown",
   "metadata": {},
   "source": [
    "Let's do a \"light mask\" approach where we turn off the channels we found to be most inconsistent and see if we can improve the model's performance on the domain shifted MNIST"
   ]
  },
  {
   "cell_type": "code",
   "execution_count": 119,
   "metadata": {},
   "outputs": [],
   "source": [
    "outputs = aug_model(augmented_five)\n",
    "\n",
    "hook.remove()"
   ]
  },
  {
   "cell_type": "code",
   "execution_count": 120,
   "metadata": {},
   "outputs": [
    {
     "data": {
      "text/plain": [
       "tensor([[ -6.6939,  -6.0056,  -7.1737,   5.4463, -15.5401,   7.3993,  -8.6733,\n",
       "          -5.0517,   7.7367,  -6.5524]], grad_fn=<AddmmBackward0>)"
      ]
     },
     "execution_count": 120,
     "metadata": {},
     "output_type": "execute_result"
    }
   ],
   "source": [
    "outputs"
   ]
  },
  {
   "cell_type": "markdown",
   "metadata": {},
   "source": [
    "Sure enough we see that it would now predict 5 rather than 3."
   ]
  },
  {
   "cell_type": "code",
   "execution_count": 121,
   "metadata": {},
   "outputs": [
    {
     "name": "stderr",
     "output_type": "stream",
     "text": [
      "100%|██████████| 13/13 [00:51<00:00,  4.00s/it]\n",
      "100%|██████████| 13/13 [00:50<00:00,  3.91s/it]\n"
     ]
    }
   ],
   "source": [
    "hook = aug_model.features[28].register_forward_hook(hook_function)\n",
    "\n",
    "mild_hook_res, mild_hook_dict = evaluate_model(aug_model, test_loader_ds)\n",
    "\n",
    "mild_hook_aug_res, mild_hook_aug_dict = evaluate_model(aug_model, test_loader_aug)"
   ]
  },
  {
   "cell_type": "markdown",
   "metadata": {},
   "source": [
    "Evaluating the model on the augmented test set, we see that the model is still able to predict the augmented test set well but now our domain shifted MNIST performance has improved."
   ]
  },
  {
   "cell_type": "code",
   "execution_count": 106,
   "metadata": {},
   "outputs": [],
   "source": [
    "hook.remove()"
   ]
  },
  {
   "cell_type": "code",
   "execution_count": 107,
   "metadata": {},
   "outputs": [],
   "source": [
    "mask_list = [11, 80, 471, 508, 215, 434]\n",
    "\n",
    "def hook_function(module, input, output):\n",
    "    # Set all activations in the masked channels to zero\n",
    "    for i in range(len(mask_list)):\n",
    "        output[:, mask_list[i], :, :] = 0  # Channel indexing is 0-based\n",
    "    return output\n"
   ]
  },
  {
   "cell_type": "markdown",
   "metadata": {},
   "source": [
    "Now we will try to mask even more of the inconsistent channels and see if we can further improve the model's performance on the domain shifted MNIST. However, we risk turning off channels that actually help the model predict the augmented test set."
   ]
  },
  {
   "cell_type": "code",
   "execution_count": 108,
   "metadata": {},
   "outputs": [
    {
     "name": "stderr",
     "output_type": "stream",
     "text": [
      "100%|██████████| 13/13 [01:03<00:00,  4.88s/it]\n",
      "100%|██████████| 13/13 [01:01<00:00,  4.71s/it]\n"
     ]
    }
   ],
   "source": [
    "hook = aug_model.features[28].register_forward_hook(hook_function)\n",
    "\n",
    "moderate_hook_res, moderate_hook_dict = evaluate_model(aug_model, test_loader_ds)\n",
    "\n",
    "moderate_hook_aug_res, moderate_hook_aug_dict = evaluate_model(aug_model, test_loader_aug)"
   ]
  },
  {
   "cell_type": "code",
   "execution_count": 109,
   "metadata": {},
   "outputs": [],
   "source": [
    "hook.remove()"
   ]
  },
  {
   "cell_type": "markdown",
   "metadata": {},
   "source": [
    "We can indeed see that the model is now degraded due to turning off too many channels. This is a tradeoff we must make when trying to mitigate domain shifted features."
   ]
  },
  {
   "cell_type": "code",
   "execution_count": 110,
   "metadata": {},
   "outputs": [],
   "source": [
    "def custom_evaluate_model(model, test_loader, device):\n",
    "    model.eval()\n",
    "    correct = 0\n",
    "    total = 0\n",
    "    wrong_predictions = {}\n",
    "    for i in range(10):\n",
    "        temp = {}\n",
    "        for j in range(10):\n",
    "            temp[j] = 0\n",
    "        wrong_predictions[i] = temp\n",
    "\n",
    "    mask_list = [11, 80, 471, 508, 215, 434]\n",
    "\n",
    "    def hook_function(module, input, output):\n",
    "        # Set all activations in the masked channels to zero\n",
    "        for i in mask_list:\n",
    "            output[:, i, :, :] = 0\n",
    "        return output\n",
    "\n",
    "    with torch.no_grad():\n",
    "        for images, labels in tqdm(test_loader):\n",
    "            images = images.to(device)\n",
    "            labels = labels.to(device)\n",
    "            \n",
    "            for index in range(len(images)):\n",
    "                single_image = images[index:index+1]  # Process one image at a time\n",
    "                single_label = labels[index:index+1]\n",
    "                \n",
    "                # Perform initial inference\n",
    "                output = model(single_image)\n",
    "                _, predicted = torch.max(output.data, 1)\n",
    "                prediction = predicted.item()\n",
    "                label = single_label.item()\n",
    "                \n",
    "                if prediction == 3:\n",
    "                    # Register hook if prediction is 3\n",
    "                    hook = model.features[28].register_forward_hook(hook_function)\n",
    "                    \n",
    "                    # Rerun inference with the hook\n",
    "                    rerun_output = model(single_image)\n",
    "                    _, rerun_predicted = torch.max(rerun_output.data, 1)\n",
    "                    rerun_prediction = rerun_predicted.item()\n",
    "                    \n",
    "                    # Evaluate rerun prediction\n",
    "                    if rerun_prediction == label:\n",
    "                        correct += 1\n",
    "                    else:\n",
    "                        wrong_predictions[label][rerun_prediction] += 1\n",
    "                    \n",
    "                    # Remove the hook\n",
    "                    hook.remove()\n",
    "                else:\n",
    "                    # Evaluate initial prediction\n",
    "                    if prediction == label:\n",
    "                        correct += 1\n",
    "                    else:\n",
    "                        wrong_predictions[label][prediction] += 1\n",
    "                \n",
    "                total += 1\n",
    "\n",
    "    accuracy = 100 * correct / total\n",
    "    return accuracy, wrong_predictions"
   ]
  },
  {
   "cell_type": "markdown",
   "metadata": {},
   "source": [
    "Our final strategy is a bit of a combination. We use the normal unmasked model for each prediction, but if we predict a \"3\", the problematic class, we recompute our prediction with the moderately masked model. This way we can still predict the augmented test set well but also mitigate the domain shifted feature in a particular class we know to be unreliable."
   ]
  },
  {
   "cell_type": "code",
   "execution_count": 111,
   "metadata": {},
   "outputs": [
    {
     "name": "stderr",
     "output_type": "stream",
     "text": [
      "100%|██████████| 13/13 [01:06<00:00,  5.10s/it]\n",
      "100%|██████████| 13/13 [00:51<00:00,  3.99s/it]\n"
     ]
    }
   ],
   "source": [
    "custom_eval_res, custom_eval_dict = custom_evaluate_model(aug_model, test_loader_ds, device)\n",
    "\n",
    "custom_eval_aug_res, custom_eval_aug_dict = custom_evaluate_model(aug_model, test_loader_aug, device)"
   ]
  },
  {
   "cell_type": "code",
   "execution_count": 125,
   "metadata": {},
   "outputs": [
    {
     "data": {
      "image/png": "[encoded data removed]",
      "text/plain": [
       "<Figure size 640x480 with 1 Axes>"
      ]
     },
     "metadata": {},
     "output_type": "display_data"
    }
   ],
   "source": [
    "# plot accuracy in bar chart of original DS, mild hook, moderate hook, and custom evaluation\n",
    "# add a second bar for each to show the accuracy on the augmented dataset\n",
    "labels = ['Original', 'Mild Hook', 'Moderate Hook', 'Custom Inference']\n",
    "original_ds = [original_ds_res, mild_hook_res, moderate_hook_res, custom_eval_res]\n",
    "original_aug = [original_aug_res, mild_hook_aug_res, moderate_hook_aug_res, custom_eval_aug_res]\n",
    "\n",
    "x = np.arange(len(labels))  # the label locations\n",
    "width = 0.35  # the width of the bars\n",
    "\n",
    "fig, ax = plt.subplots()\n",
    "bars1 = ax.bar(x - width/2, original_ds, width, label='Domain-Shifted')\n",
    "bars2 = ax.bar(x + width/2, original_aug, width, label='Augmented')\n",
    "\n",
    "# Add some text for labels, title and custom x-axis tick labels, etc.\n",
    "ax.set_ylabel('Scores')\n",
    "ax.set_title('Scores by model type and augmentation')\n",
    "ax.set_xticks(x)\n",
    "ax.set_xticklabels(labels)\n",
    "ax.legend()\n",
    "\n",
    "# Label with label_type annotation on the top of the bars\n",
    "def autolabel(bars):\n",
    "    \"\"\"Attach a label_type above each bar in *bars*, displaying its height.\"\"\"\n",
    "    for bar in bars:\n",
    "        height = bar.get_height()\n",
    "        ax.annotate('{}'.format(height),\n",
    "                    xy=(bar.get_x() + bar.get_width() / 2, height),\n",
    "                    xytext=(0, 3),  # 3 points vertical offset\n",
    "                    textcoords=\"offset points\",\n",
    "                    ha='center', va='bottom')\n",
    "\n",
    "autolabel(bars1)\n",
    "autolabel(bars2)\n",
    "\n",
    "fig.tight_layout()\n",
    "\n",
    "plt.show()"
   ]
  },
  {
   "cell_type": "code",
   "execution_count": null,
   "metadata": {},
   "outputs": [],
   "source": []
  },
  {
   "cell_type": "code",
   "execution_count": null,
   "metadata": {},
   "outputs": [],
   "source": []
  },
  {
   "cell_type": "code",
   "execution_count": null,
   "metadata": {},
   "outputs": [],
   "source": []
  },
  {
   "cell_type": "code",
   "execution_count": null,
   "metadata": {},
   "outputs": [],
   "source": []
  }
 ],
 "metadata": {
  "kernelspec": {
   "display_name": "utils3",
   "language": "python",
   "name": "python3"
  },
  "language_info": {
   "codemirror_mode": {
    "name": "ipython",
    "version": 3
   },
   "file_extension": ".py",
   "mimetype": "text/x-python",
   "name": "python",
   "nbconvert_exporter": "python",
   "pygments_lexer": "ipython3",
   "version": "3.9.19"
  }
 },
 "nbformat": 4,
 "nbformat_minor": 2
}
